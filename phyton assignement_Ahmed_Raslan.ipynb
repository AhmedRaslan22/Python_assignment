{
 "cells": [
  {
   "cell_type": "code",
   "execution_count": 82,
   "id": "822b2aa7",
   "metadata": {},
   "outputs": [
    {
     "name": "stdout",
     "output_type": "stream",
     "text": [
      "{'Aptenodytes forsteri': Seq('ATGGCCCCAAATCTCCGAAAATCCCATCCCCTCCTAAAAATAATTAATAACTCC...TAA'), 'Aptenodytes patagonicus': Seq('ATGGCCCCAAACCTCCGAAAATCCCATCCTCTCCTAAAAATAATTAATAACTCC...TAA'), 'Eudyptes chrysocome': Seq('ATGGCCCCCAACCTCCGAAAATCCCACCCCCTCCTAAAAACAATCAATAACTCC...TAA'), 'Eudyptes chrysolophus': Seq('ATGGCCCCCAACCTCCGAAAATCCCACCCCCTCCTAAAAACAATCAATAACTCC...TAA'), 'Eudyptes sclateri': Seq('ATGGCCCCCAACCTCCGAAAATCCCACCCCCTCCTAAAAACAATCAATAACTCC...TAA'), 'Eudyptula minor': Seq('ATGGCCCCCAACCTCCGAAAATCTCACCCCCTCCTAAAAATAATCAACAACTCT...TAA'), 'Pygoscelis adeliae': Seq('ATGGCCCCCAACCTCCGAAAATCCCACCCTCTCCTAAAAATAATTAACAACTCC...TAA'), 'Pygoscelis antarctica': Seq('ATGGCCCCCAACCTCCGAAAATCCCACCCTCTCCTAAAAATAATCAACAACTCC...TAG'), 'Pygoscelis papua': Seq('ATGGCCCCCAACCTTCGAAAATCCCACCCTCTCCTAAAAATAATCAACAAATCC...TAG'), 'Spheniscus demersus': Seq('ATGGCCCCCAACCTCCGAAAATCCCACCCTCTCCTAAAAACAATCAACAACTCC...TAA'), 'Spheniscus humboldti': Seq('ATGGCCCCCAACCTCCGAAAATCCCACCCTCTCCTAAAAACAATCAACAACTCC...TAA'), 'Spheniscus magellanicus': Seq('ATGGCCCCCAACCTCCGAAAATCCCACCCTCTCCTAAAAACAATCAACAACTCC...TAA')}\n"
     ]
    }
   ],
   "source": [
    "from Bio import SeqIO\n",
    "from Bio.Data import CodonTable\n",
    "import pandas as pd\n",
    "from Bio.Seq import Seq\n",
    "\n",
    "penguins_cytb = \"penguins_cytb.fasta\" \n",
    "\n",
    "def get_sequences_from_file(filename):\n",
    "    sequence_data_dict = {}\n",
    "    for record in SeqIO.parse(filename, \"fasta\"):\n",
    "        description = record.description.split()\n",
    "        species_name = description[1] + \" \" + description[2]\n",
    "        sequence_data_dict[species_name] = record.seq\n",
    "    return sequence_data_dict\n",
    "\n",
    "\n",
    "sequences = get_sequences_from_file(penguins_cytb)\n",
    "\n",
    "print(sequences)"
   ]
  },
  {
   "cell_type": "markdown",
   "id": "c78b8eb7",
   "metadata": {},
   "source": [
    "#### penguins_cytb = \"penguins_cytb.fasta\":\n",
    "\n",
    "Defining a variable called \"penguins_cytb\" to \"penguins_cytb.fasta\" and assigning it the value of  \"penguins_cytb.fasta\". This variable is then used as an argument in the get_sequences_from_file() function, which reads in the FASTA file containing DNA sequences for multiple penguin species.\n",
    "\n",
    "#### def get_sequences_from_file(filename):\n",
    "      sequence_data_dict = {}\n",
    "get_sequences_from_file initializes an empty dictionary called sequence_data_dict, which will be used to store the sequences for each species.\n",
    "\n",
    "#### for record in SeqIO.parse(filename, \"fasta\"): \n",
    "continue to build the function by adding a for loop. This for loop iterates over each record in the FASTA file produced by the seqI0.parse function which In the context of sequence data, parsing typically involves reading a sequence file, such as a FASTA or FASTQ file, and extracting the sequence data and associated metadata, such as sequence IDs or annotations. \n",
    "\n",
    "\n",
    "#### description = record.description.split()\n",
    "\n",
    "By calling split() on the description string, we can split it into a list of words and extract specific pieces of information from it. Empty split () means splitting words by white space.\n",
    "\n",
    "#### species_name = description[1] + \" \" + description[2]\n",
    "#### sequence_data_dict[species_name] = record.seq\n",
    "\n",
    "Creating a new key-value pair in the sequence_data_dict dictionary. The key is the species_name string, which we constructed earlier by combining the second and third words in the description string. The value is the sequence data itself, which is stored in the seq attribute of the SeqRecord object. By doing this, we are creating a mapping between each species name and its corresponding sequence data\n",
    "\n",
    "\n",
    "#### sequences = get_sequences_from_file(penguins_cytb)\n",
    "\n",
    "In the line sequences = get_sequences_from_file(penguins_cytb), we are calling the get_sequences_from_file() function and passing it the penguins_cytb variable as an argument. The get_sequences_from_file() function reads the sequence data from this file and returns a dictionary that maps each species name to its corresponding DNA sequence data. By assigning the result of this function call to the sequences variable, we are storing this dictionary in memory for later use.\n",
    "\n",
    "\n",
    "#### print(sequences)\n",
    "\n",
    "Returning the value of the sequences variable\n",
    "\n"
   ]
  },
  {
   "cell_type": "code",
   "execution_count": 83,
   "id": "d05cebc8",
   "metadata": {},
   "outputs": [
    {
     "name": "stdout",
     "output_type": "stream",
     "text": [
      "Aptenodytes forsteri: MAPNLRKSHPLLKMINNSLIDLPTPSNISAWWNFGSLLGICLTTQILTGLLLAMHYTADTTLAFSSVAHTCRNVQYGWLIRNLHANGASFFFICIYLHIGRGFYYGSYLYKETWNTGIILLLTLMATAFVGYVLPWGQMSFWGATVITNLFSAIPYIGQTLVEWTWGGFSVDNPTLTRFFALHFLLPFMIAGLTLIHLTFLHESGSNNPLGIVANSDKIPFHPYYSTKDILGFALMLLPLTTLALFSPNLLGDPENFTPANPLVTPPHIKPEWYFLFAYAILRSIPNKLGGVLALAASVLILFLIPLLHKSKQRTMAFRPLSQLLFWALVANLIILTWVGSQPVEHPFIIIGQLASLTYFTTLLILFPIAGALENKMLNH\n",
      "Aptenodytes patagonicus: MAPNLRKSHPLLKMINNSLIDLPTPSNISAWWNFGSLLGICLTTQILTGLLLAMHYTADTTLAFSSVAHTCRNVQYGWLIRNLHANGASFFFICIYLHIGRGFYYGSYLYKETWNTGIILLLTLMATAFVGYVLPWGQMSFWGATVITNLFSAIPYIGQTLVEWAWGGFSVDNPTLTRFFALHFLLPFMIAGLTLIHLTFLHESGSNNPLGIVANSDKIPFHPYYSTKDTLGFALMLLPLTTLALFSPNLLGDPENFTPANPLVTPPHIKPEWYFLFAYAILRSIPNKLGGVLALAASVLILFLIPLLHKSKQRTMTFRPLSQLLFWTLVANLTILTWIGSQPVEHPFIIIGQLASLTYFTILLILFPLIGTLENKMLNH\n",
      "Eudyptes chrysocome: MAPNLRKSHPLLKTINNSLIDLPTPSNISAWWNFGSLLGICLATQILTGLLLAAHYTADTTLAFSSVAHTCRNVQYGWLIRNLHANGASFFFICIYLHIGRGLYYGSYLYKETWNTGIILLLTLMATAFVGYVLPWGQMSFWGATVITNLFSAIPYIGQTLVEWAWGGFSVDNPTLTRFFTLHFLLPFMIAGLTLIHLTFLHESGSNNPLGIVANSDKIPFHPYYSTKDILGFILLLLPLTTLALFSPNLLGDPENFTPANPLVTPPHIKPEWYFLFAYAILRSIPNKLGGVLALAASVLILFLIPLLHKSKQRTMTFRPLSQLLFWTLVANLTILTWIGSQPVEHPFIIIGQLASLTYFTILLILFPLIGTLENKMLNH\n",
      "Eudyptes chrysolophus: MAPNLRKSHPLLKTINNSLIDLPTPSNISAWWNFGSLLGICLATQILTGLLLAAHYTADTTLAFSSVAHTCRNVQYGWLIRNLHANGASFFFICIYLHIGRGLYYGSYLYKETWNTGIILLLTLMATAFVGYVLPWGQMSFWGATVITNLFSAIPYIGQTLVEWAWGGFSVDNPTLTRFFTLHFLLPFMIAGLTLIHLTFLHESGSNNPLGIVANSDKIPFHPYYSTKDILGFILLLLPLTALALFSPNLLGDPENFTPANPLVTPPHIKPEWYFLFAYAILRSIPNKLGGVLALAASVLILFLIPLLHKSKQRTMTFRPLSQLLFWTLVANLTILTWIGSQPVEHPFIIIGQLASLTYFTILLILFPLIGTLENKMLNH\n",
      "Eudyptes sclateri: MAPNLRKSHPLLKTINNSLIDLPTPSNISAWWNFGSLLGICLATQILTGLLLAAHYTADTTLAFSSVAHTCRNVQYGWLIRNLHANGASFFFICIYLHIGRGLYYGSYLYKETWNTGIILLLTLMATAFVGYVLPWGQMSFWGATVITNLFSAIPYIGQTLVEWAWGGFSVDNPTLTRFFTLHFLLPFMIAGLTLIHLTFLHESGSNNPLGIVANSDKIPFHPYYSTKDILGFILLLLPLTTLALFSPNLLGDPENFTPANPLVTPPHIKPEWYFLFAYAILRSIPNKLGGVLALAASVLILFLIPLLHKSKQRTMTFRPLSQLLFWTLVANLTILTWIGSQPVEHPFIIIGQLASLTYFTILLILFPLIGTLENKMLNH\n",
      "Eudyptula minor: MAPNLRKSHPLLKMINNSLIDLPTPSNISTWWNFGSLLGICLITQILTGLLLAAHYTADTTLAFSSIAHTCRNVQYGWLIRNLHANGASFFFICIYLHIGRGLYYGSYLYKETWNTGIILLITLMATAFVGYVLPWGQMSFWGATVITNLFSAIPYIGQTLVEWAWGGFSVDNPTLTRFFALHFLLPFMITGLTLIHLTFLHESGSNNPLGIVANSDKIPFHPYYSTKDILGFILLLLPLTTLALFSPNLLGDPENFTPANPLVTPPHIKPEWYFLFAYAILRSIPNKLGGVLALAASVLILFLIPLLHKSKQRSMAFRPLSQLLFWTLVANLTILTWVGNQPVEHPFIIIGQLASLTYFTILLILFPLAGTLENKMLSH\n",
      "Pygoscelis adeliae: MAPNLRKSHPLLKMINNSLIDLPTPSNISAWWNFGSLLGICLTTQILTGLLLAMHYTADTTLAFSSIAHTCRDVQYGWLIRNLHANGASFFFICIYLHIGRGLYYGSYLYKETWNTGIILLLTLMATAFVGYVLPWGQMSFWGATVITNLFSAIPYIGQTLVEWAWGGFSVDNPTLTRFFALHFLLPFVIMGLTLIHLTFLHESGSNNPLGIVANSDKIPFHPYYSTKDILGFAFMLLPLTTLALFSPNLLGDPENFTPANPLVTPPHIKPEWYFLFAYAILRSIPNKLGGVLALAASVLILFLIPLLHKSKQRTMAFRPLSQLLFWALVANLAILTWVGSQPVEHPFIIIGQLASLTYFTILLILFPSIGALENKMLNH\n",
      "Pygoscelis antarctica: MAPNLRKSHPLLKMINNSLIDLPTPSNISAWWNFGSLLGICLTTQILTGLLLAMHYTADTTLAFSSIAHTCRDVQYGWLIRNMHANGASLLFICIYLHIGRGVYDGSYLHKETWNTGVILLLTLMATAFVGYVLPWGQMSFWGATVITNLFSAIPYIGQTIVEWAWGGFSVDNPTLTRFFALHFLLPFMITGLTLIHLTFLHESGSNNPLGIVANSDKIPFHPYYSTKDILGFTLMLLPLTTLALFSPNLLGDPENFTPANPLVTPPHIKPEWYFLFAYAILRSIPNKLGGVLALAASVLVLFLSPLLHKSKQRTMAFRPLSQLLFWTLVANLLILTWIGSQPVEHPFIIIGQLASTTYFIILLILFPITSALENKMLNF\n",
      "Pygoscelis papua: MAPNLRKSHPLLKMINKSLIDLPTPPNISAWWNFGSLLGICLITQILTGLLLAMHYTADTTLAFSSIAHTCRNVQYGWLIRNLHANGASFFFICIYFHIGRGLYYGSYLYKETWNTGIILLLTLMATAFVGYVLPWGQMSFWGATVITNLFSAIPYVGQTLVEWAWGGFSVDNPTLTRFFALHFLLPFMITGLTLIHLTFLHESGSNNPLGIVANSDKIPFHPYYSTKDILGFALMLLPLTTLALFSPNLLGDPENFTPANPLVTPPHIKPEWYFLFAYAILRSIPNKLGGVLALAASVLILFLSPLLHKSKQRTMAFRPLSQLLFWTLVANLLILTWIGSQPVEHPFIIIGQLASTTYFIILLILFPITSALENKMLNF\n",
      "Spheniscus demersus: MAPNLRKSHPLLKTINNSLIDLPTPSNISAWWNFGSLLGICLATQILTGLLLAAHYTADTTLAFSSVAHMCRNVQYGWLIRNLHANGASFFFICIYLHIGRGLYYGSYLYKETWNTGIILLLTLMATAFVGYVLPWGQMSFWGATVITNLFSAIPYIGQTLVEWAWGGFSVDNPTLTRFFALHFLLPFMITGLTLIHLTFLHESGSNNPLGIVANSDKIPFHPYYSTKDILGFMLLLLPLTTLALFSPNLLGDPENFTPANPLVTPPHIKPEWYFLFAYAILRSIPNKLGGVLALAASVLILFLMPLLHKSKQRTMAFRPLSQLLFWTLVANLIILTWIGSQPVEHPFIAIGQLASFTYFTTLLILFPLAGALENKMLNH\n",
      "Spheniscus humboldti: MAPNLRKSHPLLKTINNSLIDLPTPSNISAWWNFGSLLSICLATQILTGLLLAAHYTADTTLAFSSVAHMCRNVQYGWLIRNLHANGASFFFICIYLHIGRGLYYGSYLHKETWNTGIILLLTLMATAFVGYVLPWGQMSFWGATVITNLFSAIPYIGQTLVEWAWGGFSVDNPTLTRFFALHFLLPFMITGLALIHLTFLHESGSNNPLGIVANSDKIPFHPYYSTKDILGFMLLLLPLTTLALFSPNLLGDPENFTPANPLVTPPHIKPEWYFLFAYAILRSIPNKLGGVLALAASVLILFLMPLLHKSKQRTMAFRPLSQLLFWTLVANLIILTWVGSQPVEHPFIIIGQLASLTYFTTLLILFPLAGALENKMLNH\n",
      "Spheniscus magellanicus: MAPNLRKSHPLLKTINNSLIDLPTPSNISAWWNFGSLLGICLATQILTGLLLAAHYTADTTLAFSSVAHMCRNVQYGWLIRNLHANGASFFFICIYLHIGRGLYYGSYLYKETWNTGIILLLTLMATAFVGYVLPWGQMSFWGATVITNLFSAIPYIGQTLVEWAWGGFSVDNPTLTRFFALHFLLPFMITGLTLIHLTFLHESGSNNPLGIVANSDKIPFHPYYSTKDILGFMLLLLPLTTLALFSPNLLGDPENFTPANPLVTPPHIKPEWYFLFAYAILRSIPNKLGGVLALAASVLILFLMPLLHKSKQRTMAFRPLSQLLFWTLVANLIILTWVGSQPVEHPFIIIGQLASFTYFTTLLILFPLAGALENKMLNH\n"
     ]
    }
   ],
   "source": [
    "def translate_function(string_nucleotides):\n",
    "    mito_table = CodonTable.unambiguous_dna_by_name[\"Vertebrate Mitochondrial\"]\n",
    "    seq_obj = Seq(string_nucleotides, None)\n",
    "    aa_seq_string = \"\"\n",
    "    for i in range(0, len(seq_obj), 3):\n",
    "        codon = seq_obj[i:i+3]\n",
    "        if len(codon) == 3:\n",
    "            if codon in mito_table.stop_codons:\n",
    "                break\n",
    "            aa = mito_table.forward_table[codon]\n",
    "            aa_seq_string += aa\n",
    "    return aa_seq_string\n",
    "\n",
    "for species_name, seq in sequences.items():\n",
    "    aa_seq = translate_function(str(seq))\n",
    "    print(species_name + \": \" + aa_seq)"
   ]
  },
  {
   "cell_type": "markdown",
   "id": "e3b3a6bc",
   "metadata": {},
   "source": [
    "#### def translate_function(string_nucleotides):\n",
    "\n",
    "Defining a translate function with the function's arguments (string_nucleotides). \"string_nucleotides\" is  a variable name used within the context of the translate_function function, and its value is determined.  when the function is called, the value of the string_nucleotides parameter is passed as an argument\n",
    "\n",
    "#### mito_table = CodonTable.unambiguous_dna_by_name[\"Vertebrate Mitochondrial\"] \n",
    "\n",
    "#### ref: https://biopython.org/docs/1.75/api/Bio.Data.CodonTable.html\n",
    "Creating a varaialbe (mito_table) in the function containing the genetic code that is being accessed for the \"Vertebrate Mitochondrial\" , which is stored in the CodonTable.unambiguous_dna_by_name dictionary.\n",
    "\n",
    "#### seq_obj = Seq(string_nucleotides, None)\n",
    "#### Ref: https://biopython.org/wiki/Seq\n",
    "\n",
    "Creating a varaialbe (seq_obj) having the value of the seq function on the argument \"string_nucleotides\" defined earlier. \n",
    "\"Seq\" converts the string of nucleotides into a sequence object that can be easily manipulated using Biopython's sequence analysis tools.\n",
    "\n",
    "#### aa_seq_string = \"\"\n",
    "\n",
    "This line of code initializes an empty string variable called aa_seq_string, which will be used to store the translated amino acid sequence\n",
    "\n",
    "#### for i in range(0, len(seq_obj), 3): \n",
    "#### ref: https://pynative.com/python-range-function/\n",
    "\n",
    "The for loop iterates over a range of numbers generated by the range function. The range function takes three arguments: a starting value (0 in this case), an ending value (the length of seq_obj), and a step value (3 in this case, to iterate over the sequence in codons of three nucleotides). on the first iteration of the loop, i will be 0, which represents the starting index of the first codon in the sequence. On the second iteration, i will be 3, which represents the starting index of the second codon in the sequence, and so on. In Python, as in many programming languages, indexing starts at 0. Therefore, the first nucleotide in the input nucleotide sequence would be at index 0, the second nucleotide would be at index 1, and so on.\n",
    "\n",
    "#### codon = seq_obj[i:i+3] \n",
    "#### ref(slicing): https://stackoverflow.com/questions/509211/how-slicing-in-python-works\n",
    "\n",
    "This line of code creates a new variable codon by slicing the input nucleotide sequence seq_obj into groups of three nucleotides\n",
    "\n",
    "#### if len(codon) == 3:\n",
    "\n",
    "The condition if len(codon) == 3 checks whether the length of the current codon is equal to 3 nucleotides. If the length of codon is not 3, it means that we have reached the end of the input sequence and there are not enough nucleotides to form a complete codon. By checking if len(codon) == 3, we ensure that we only attempt to translate complete codons of three nucleotides, and we avoid attempting to translate partial codons that would result in errors or incorrect translation.\n",
    "\n",
    "\n",
    "#### if codon in mito_table.stop_codons: \n",
    "                break                  \n",
    "                \n",
    "#### ref(nested if statements): https://www.softwaretestinghelp.com/python/python-conditional-statements/#4_Nested_if-else_statements\n",
    "The indentation between the two if statements is used to indicate that the second if statement is nested inside the first if statement. Within this block of code, we have a second if statement that checks whether the current codon is a stop codon. If this condition is true, the break statement is executed, which immediately terminates the loop and exits the function.\n",
    "\n",
    "#### aa = mito_table.forward_table[codon]\n",
    "#### aa_seq_string += aa\n",
    "\n",
    "translates the current codon into its corresponding amino acid using the Vertebrate Mitochondrial genetic code. By iterating over the input nucleotide sequence and translating each codon into its corresponding amino acid, we can obtain the complete amino acid sequence of the protein encoded by the input sequence.\n",
    "\n",
    "We use the += operator with the aa_seq_string variable to append the translated amino acid to the existing amino acid sequence in aa_seq_string, rather than overwriting it\n",
    "\n",
    "\n",
    "#### for species_name, seq in sequences.items():\n",
    "    aa_seq = translate_function(str(seq))\n",
    "    print(species_name + \": \" + aa_seq)\n",
    "    \n",
    "#### Ref(calling defined function): https://www.javatpoint.com/how-to-call-a-function-in-python\n",
    "#### Ref ( prinitng key, value using for loop): https://www.freecodecamp.org/news/python-for-loop-example-how-to-write-loops-in-python/\n",
    "    \n",
    "Calling the defined function on the \"sequences\" variable and creating a new variable (aa_seq) that contains the translated sequences. For loop is to iterate over each species_name, sequence pair and prent them all, otherwise and if only the last line was run only the first sequence will be printed. The str function is to creat a string. \n",
    "\n",
    "\n",
    "\n",
    "\n",
    "\n",
    "\n",
    "\n",
    "\n"
   ]
  },
  {
   "cell_type": "code",
   "execution_count": 84,
   "id": "42ebb8b7",
   "metadata": {},
   "outputs": [
    {
     "name": "stdout",
     "output_type": "stream",
     "text": [
      "Aptenodytes forsteri: MAPNLRKSHPLLKMINNSLIDLPTPSNISAWWNFGSLLGICLTTQILTGLLLAMHYTADTTLAFSSVAHTCRNVQYGWLIRNLHANGASFFFICIYLHIGRGFYYGSYLYKETWNTGIILLLTLMATAFVGYVLPWGQMSFWGATVITNLFSAIPYIGQTLVEWTWGGFSVDNPTLTRFFALHFLLPFMIAGLTLIHLTFLHESGSNNPLGIVANSDKIPFHPYYSTKDILGFALMLLPLTTLALFSPNLLGDPENFTPANPLVTPPHIKPEWYFLFAYAILRSIPNKLGGVLALAASVLILFLIPLLHKSKQRTMAFRPLSQLLFWALVANLIILTWVGSQPVEHPFIIIGQLASLTYFTTLLILFPIAGALENKMLNH\n",
      "Aptenodytes patagonicus: MAPNLRKSHPLLKMINNSLIDLPTPSNISAWWNFGSLLGICLTTQILTGLLLAMHYTADTTLAFSSVAHTCRNVQYGWLIRNLHANGASFFFICIYLHIGRGFYYGSYLYKETWNTGIILLLTLMATAFVGYVLPWGQMSFWGATVITNLFSAIPYIGQTLVEWAWGGFSVDNPTLTRFFALHFLLPFMIAGLTLIHLTFLHESGSNNPLGIVANSDKIPFHPYYSTKDTLGFALMLLPLTTLALFSPNLLGDPENFTPANPLVTPPHIKPEWYFLFAYAILRSIPNKLGGVLALAASVLILFLIPLLHKSKQRTMTFRPLSQLLFWTLVANLTILTWIGSQPVEHPFIIIGQLASLTYFTILLILFPLIGTLENKMLNH\n",
      "Eudyptes chrysocome: MAPNLRKSHPLLKTINNSLIDLPTPSNISAWWNFGSLLGICLATQILTGLLLAAHYTADTTLAFSSVAHTCRNVQYGWLIRNLHANGASFFFICIYLHIGRGLYYGSYLYKETWNTGIILLLTLMATAFVGYVLPWGQMSFWGATVITNLFSAIPYIGQTLVEWAWGGFSVDNPTLTRFFTLHFLLPFMIAGLTLIHLTFLHESGSNNPLGIVANSDKIPFHPYYSTKDILGFILLLLPLTTLALFSPNLLGDPENFTPANPLVTPPHIKPEWYFLFAYAILRSIPNKLGGVLALAASVLILFLIPLLHKSKQRTMTFRPLSQLLFWTLVANLTILTWIGSQPVEHPFIIIGQLASLTYFTILLILFPLIGTLENKMLNH\n",
      "Eudyptes chrysolophus: MAPNLRKSHPLLKTINNSLIDLPTPSNISAWWNFGSLLGICLATQILTGLLLAAHYTADTTLAFSSVAHTCRNVQYGWLIRNLHANGASFFFICIYLHIGRGLYYGSYLYKETWNTGIILLLTLMATAFVGYVLPWGQMSFWGATVITNLFSAIPYIGQTLVEWAWGGFSVDNPTLTRFFTLHFLLPFMIAGLTLIHLTFLHESGSNNPLGIVANSDKIPFHPYYSTKDILGFILLLLPLTALALFSPNLLGDPENFTPANPLVTPPHIKPEWYFLFAYAILRSIPNKLGGVLALAASVLILFLIPLLHKSKQRTMTFRPLSQLLFWTLVANLTILTWIGSQPVEHPFIIIGQLASLTYFTILLILFPLIGTLENKMLNH\n",
      "Eudyptes sclateri: MAPNLRKSHPLLKTINNSLIDLPTPSNISAWWNFGSLLGICLATQILTGLLLAAHYTADTTLAFSSVAHTCRNVQYGWLIRNLHANGASFFFICIYLHIGRGLYYGSYLYKETWNTGIILLLTLMATAFVGYVLPWGQMSFWGATVITNLFSAIPYIGQTLVEWAWGGFSVDNPTLTRFFTLHFLLPFMIAGLTLIHLTFLHESGSNNPLGIVANSDKIPFHPYYSTKDILGFILLLLPLTTLALFSPNLLGDPENFTPANPLVTPPHIKPEWYFLFAYAILRSIPNKLGGVLALAASVLILFLIPLLHKSKQRTMTFRPLSQLLFWTLVANLTILTWIGSQPVEHPFIIIGQLASLTYFTILLILFPLIGTLENKMLNH\n",
      "Eudyptula minor: MAPNLRKSHPLLKMINNSLIDLPTPSNISTWWNFGSLLGICLITQILTGLLLAAHYTADTTLAFSSIAHTCRNVQYGWLIRNLHANGASFFFICIYLHIGRGLYYGSYLYKETWNTGIILLITLMATAFVGYVLPWGQMSFWGATVITNLFSAIPYIGQTLVEWAWGGFSVDNPTLTRFFALHFLLPFMITGLTLIHLTFLHESGSNNPLGIVANSDKIPFHPYYSTKDILGFILLLLPLTTLALFSPNLLGDPENFTPANPLVTPPHIKPEWYFLFAYAILRSIPNKLGGVLALAASVLILFLIPLLHKSKQRSMAFRPLSQLLFWTLVANLTILTWVGNQPVEHPFIIIGQLASLTYFTILLILFPLAGTLENKMLSH\n",
      "Pygoscelis adeliae: MAPNLRKSHPLLKMINNSLIDLPTPSNISAWWNFGSLLGICLTTQILTGLLLAMHYTADTTLAFSSIAHTCRDVQYGWLIRNLHANGASFFFICIYLHIGRGLYYGSYLYKETWNTGIILLLTLMATAFVGYVLPWGQMSFWGATVITNLFSAIPYIGQTLVEWAWGGFSVDNPTLTRFFALHFLLPFVIMGLTLIHLTFLHESGSNNPLGIVANSDKIPFHPYYSTKDILGFAFMLLPLTTLALFSPNLLGDPENFTPANPLVTPPHIKPEWYFLFAYAILRSIPNKLGGVLALAASVLILFLIPLLHKSKQRTMAFRPLSQLLFWALVANLAILTWVGSQPVEHPFIIIGQLASLTYFTILLILFPSIGALENKMLNH\n",
      "Pygoscelis antarctica: MAPNLRKSHPLLKMINNSLIDLPTPSNISAWWNFGSLLGICLTTQILTGLLLAMHYTADTTLAFSSIAHTCRDVQYGWLIRNMHANGASLLFICIYLHIGRGVYDGSYLHKETWNTGVILLLTLMATAFVGYVLPWGQMSFWGATVITNLFSAIPYIGQTIVEWAWGGFSVDNPTLTRFFALHFLLPFMITGLTLIHLTFLHESGSNNPLGIVANSDKIPFHPYYSTKDILGFTLMLLPLTTLALFSPNLLGDPENFTPANPLVTPPHIKPEWYFLFAYAILRSIPNKLGGVLALAASVLVLFLSPLLHKSKQRTMAFRPLSQLLFWTLVANLLILTWIGSQPVEHPFIIIGQLASTTYFIILLILFPITSALENKMLNF\n",
      "Pygoscelis papua: MAPNLRKSHPLLKMINKSLIDLPTPPNISAWWNFGSLLGICLITQILTGLLLAMHYTADTTLAFSSIAHTCRNVQYGWLIRNLHANGASFFFICIYFHIGRGLYYGSYLYKETWNTGIILLLTLMATAFVGYVLPWGQMSFWGATVITNLFSAIPYVGQTLVEWAWGGFSVDNPTLTRFFALHFLLPFMITGLTLIHLTFLHESGSNNPLGIVANSDKIPFHPYYSTKDILGFALMLLPLTTLALFSPNLLGDPENFTPANPLVTPPHIKPEWYFLFAYAILRSIPNKLGGVLALAASVLILFLSPLLHKSKQRTMAFRPLSQLLFWTLVANLLILTWIGSQPVEHPFIIIGQLASTTYFIILLILFPITSALENKMLNF\n",
      "Spheniscus demersus: MAPNLRKSHPLLKTINNSLIDLPTPSNISAWWNFGSLLGICLATQILTGLLLAAHYTADTTLAFSSVAHMCRNVQYGWLIRNLHANGASFFFICIYLHIGRGLYYGSYLYKETWNTGIILLLTLMATAFVGYVLPWGQMSFWGATVITNLFSAIPYIGQTLVEWAWGGFSVDNPTLTRFFALHFLLPFMITGLTLIHLTFLHESGSNNPLGIVANSDKIPFHPYYSTKDILGFMLLLLPLTTLALFSPNLLGDPENFTPANPLVTPPHIKPEWYFLFAYAILRSIPNKLGGVLALAASVLILFLMPLLHKSKQRTMAFRPLSQLLFWTLVANLIILTWIGSQPVEHPFIAIGQLASFTYFTTLLILFPLAGALENKMLNH\n",
      "Spheniscus humboldti: MAPNLRKSHPLLKTINNSLIDLPTPSNISAWWNFGSLLSICLATQILTGLLLAAHYTADTTLAFSSVAHMCRNVQYGWLIRNLHANGASFFFICIYLHIGRGLYYGSYLHKETWNTGIILLLTLMATAFVGYVLPWGQMSFWGATVITNLFSAIPYIGQTLVEWAWGGFSVDNPTLTRFFALHFLLPFMITGLALIHLTFLHESGSNNPLGIVANSDKIPFHPYYSTKDILGFMLLLLPLTTLALFSPNLLGDPENFTPANPLVTPPHIKPEWYFLFAYAILRSIPNKLGGVLALAASVLILFLMPLLHKSKQRTMAFRPLSQLLFWTLVANLIILTWVGSQPVEHPFIIIGQLASLTYFTTLLILFPLAGALENKMLNH\n",
      "Spheniscus magellanicus: MAPNLRKSHPLLKTINNSLIDLPTPSNISAWWNFGSLLGICLATQILTGLLLAAHYTADTTLAFSSVAHMCRNVQYGWLIRNLHANGASFFFICIYLHIGRGLYYGSYLYKETWNTGIILLLTLMATAFVGYVLPWGQMSFWGATVITNLFSAIPYIGQTLVEWAWGGFSVDNPTLTRFFALHFLLPFMITGLTLIHLTFLHESGSNNPLGIVANSDKIPFHPYYSTKDILGFMLLLLPLTTLALFSPNLLGDPENFTPANPLVTPPHIKPEWYFLFAYAILRSIPNKLGGVLALAASVLILFLMPLLHKSKQRTMAFRPLSQLLFWTLVANLIILTWVGSQPVEHPFIIIGQLASFTYFTTLLILFPLAGALENKMLNH\n"
     ]
    }
   ],
   "source": [
    "def translate_function(string_nucleotides):\n",
    "    mito_table = CodonTable.unambiguous_dna_by_name[\"Vertebrate Mitochondrial\"]\n",
    "    seq_obj = Seq(string_nucleotides, None)\n",
    "    aa_seq = seq_obj.translate(table=mito_table, to_stop=True)\n",
    "    return str(aa_seq)\n",
    "for species_name, seq in sequences.items():\n",
    "    aa_seq = translate_function(seq)\n",
    "    print(species_name + \": \" + aa_seq)"
   ]
  },
  {
   "cell_type": "markdown",
   "id": "a0b38818",
   "metadata": {},
   "source": [
    "##### def translate_function(string_nucleotides):\n",
    "    mito_table = CodonTable.unambiguous_dna_by_name[\"Vertebrate Mitochondrial\"]\n",
    "\n",
    "\n",
    "Same explanation as the last code\n",
    "\n",
    "##### seq_obj = Seq(string_nucleotides, None)\n",
    "This line creates a Seq object called seq_obj from the input string_nucleotides, which is the nucleotide sequence to be translated. The second argument, None, specifies that the sequence does not have an associated alphabet.\n",
    "\n",
    "\n",
    "#### aa_seq = seq_obj.translate(table=mito_table, to_stop=True)\n",
    "    return str(aa_seq)\n",
    "    \n",
    "#### ref: https://biopython.org/docs/1.75/api/Bio.Seq.html#Bio.Seq.Seq.translate\n",
    "This line calls the translate() method of the Seq object to translate the nucleotide sequence into an amino acid sequence. The table argument specifies the codon table to use for translation, and to_stop=True specifies that translation should stop at the first stop codon encountered.\n",
    "\n",
    "\n",
    "#### for species_name, seq in sequences.items():\n",
    "Starts a for loop that iterates over the items in the sequences dictionary. The items() method returns a list of key-value pairs in the dictionary, where each key-value pair is a tuple containing the key and its corresponding value.\n",
    "\n",
    "\n",
    "#### aa_seq = translate_function(seq)\n",
    "Calls the translate_function() on the nucleotide sequence seq for the current key-value pair in the sequences dictionary. The translate_function() returns the amino acid sequence for the nucleotide sequence using the \"Vertebrate Mitochondrial\" codon table. The resulting amino acid sequence is assigned to the variable aa_seq.\n",
    "\n",
    "\n",
    "#### print(species_name + \": \" + aa_seq)\n",
    "This line prints the species name, a colon and a space, and the corresponding amino acid sequence for the current key-value pair in the sequences dictionary. The + operator is used to concatenate the strings together. The output is printed to the console."
   ]
  },
  {
   "cell_type": "code",
   "execution_count": 85,
   "id": "57fd6d60",
   "metadata": {},
   "outputs": [
    {
     "name": "stdout",
     "output_type": "stream",
     "text": [
      "Aptenodytes forsteri 0.48381452318460194\n",
      "Aptenodytes patagonicus 0.4969378827646544\n",
      "Eudyptes chrysocome 0.5118110236220472\n",
      "Eudyptes chrysolophus 0.5091863517060368\n",
      "Eudyptes sclateri 0.5083114610673666\n",
      "Eudyptula minor 0.4925634295713036\n",
      "Pygoscelis adeliae 0.49081364829396323\n",
      "Pygoscelis antarctica 0.4776902887139108\n",
      "Pygoscelis papua 0.4715660542432196\n",
      "Spheniscus demersus 0.48293963254593175\n",
      "Spheniscus humboldti 0.4925634295713036\n",
      "Spheniscus magellanicus 0.4820647419072616\n"
     ]
    }
   ],
   "source": [
    "gc_contents = {}\n",
    "for species_name, seq in sequences.items():\n",
    "    sequence = str(seq).upper()\n",
    "    gc_count = sequence.count('G') + sequence.count('C')\n",
    "    gc_content = gc_count / len(sequence)\n",
    "    gc_contents[species_name] = gc_content\n",
    "for species_name, gc_content in gc_contents.items():\n",
    "    print(species_name, gc_content)"
   ]
  },
  {
   "cell_type": "markdown",
   "id": "6f0b3245",
   "metadata": {},
   "source": [
    "#### gc_contents = {} \n",
    "\n",
    "Initialize an empty dictionary to store the GC-content of each sequence. {}: This syntax is used to create an empty dictionary\n",
    "\n",
    "#### for species_name, seq in sequences.items(): \n",
    "#### ref: https://docs.python.org/3/tutorial/datastructures.html#dictionaries (point 5.6)\n",
    "\n",
    "items() is a method in Python that returns a view object that contains the key-value pairs of a dictionary. In this case, sequences is a dictionary where the keys are the species names and the values are their corresponding nucleotide sequences.\n",
    "\n",
    "By using sequences.items(), we can iterate over each key-value pair in the dictionary and assign the key to the variable species_name and the value to the variable seq.\n",
    "Loop over each key-value pair in the sequences dictionary. species_name: This is a variable that stores the name of a species in the sequences dictionary. seq: This is a variable that stores the DNA sequence for a given species in the sequences dictionary\n",
    "\n",
    "\n",
    "\n",
    "####  sequence = str(seq).upper() \n",
    "\n",
    "Extract the DNA sequence as a string and convert to uppercase. The str() function is used to convert this Seq object to a string. This is because the upper() method can be applied only to strings and not to Seq objects. \n",
    "\n",
    "\n",
    "#### gc_count = sequence.count('G') + sequence.count('C') \n",
    "#### ref(count,len): https://biopython.org/docs/1.75/api/Bio.Seq.html\n",
    "\n",
    "Count the number of G and C nucleotides in the sequence, sequence.count() is a built-in method in Python that counts the number of occurrences of a substring within a string. \n",
    "\n",
    "\n",
    "\n",
    "#### gc_content = gc_count / len(sequence) \n",
    "#### ref(count,len): https://biopython.org/docs/1.75/api/Bio.Seq.html\n",
    "Calculate the GC-content as a proportion. len(): This function is used to return the length of a string\n",
    "\n",
    "\n",
    "#### gc_contents[species_name] = gc_content \n",
    "#### ref (adding key value pair): https://stackoverflow.com/questions/3776275/how-to-add-key-value-pair-to-dictionary\n",
    "\n",
    "Add the species name and its corresponding GC-content to the gc_contents dictionary. gc_contents[species_name]: This syntax is used to add a key-value pair to the gc_contents dictionary.\n",
    "\n",
    "#### for species_name, gc_content in gc_contents.items(): \n",
    "             print(species_name, gc_content)\n",
    "#### ref ( prinitng key, value using for loop): https://www.freecodecamp.org/news/python-for-loop-example-how-to-write-loops-in-python/\n",
    "Loop over each key-value pair in the gc_contents dictionary and print the species_name, gc_content.   \n",
    "\n",
    "\n",
    "\n",
    "    "
   ]
  },
  {
   "cell_type": "code",
   "execution_count": 86,
   "id": "50efcfb4",
   "metadata": {},
   "outputs": [
    {
     "name": "stdout",
     "output_type": "stream",
     "text": [
      "Aptenodytes forsteri: 42459.602100000004\n",
      "Aptenodytes patagonicus: 42563.70669999999\n",
      "Eudyptes chrysocome: 42475.5753\n",
      "Eudyptes chrysolophus: 42445.54929999999\n",
      "Eudyptes sclateri: 42475.5753\n",
      "Eudyptula minor: 42491.64080000001\n",
      "Pygoscelis adeliae: 42458.61400000001\n",
      "Pygoscelis antarctica: 42404.54230000001\n",
      "Pygoscelis papua: 42595.87590000001\n",
      "Spheniscus demersus: 42431.54900000002\n",
      "Spheniscus humboldti: 42399.55200000001\n",
      "Spheniscus magellanicus: 42459.60210000002\n"
     ]
    }
   ],
   "source": [
    "from Bio.SeqUtils.ProtParam import ProteinAnalysis\n",
    "def calculate_molecular_weight(aa_seq):\n",
    "    analysed_seq = ProteinAnalysis(aa_seq)\n",
    "    molecular_weight = analysed_seq.molecular_weight()\n",
    "    return molecular_weight\n",
    "\n",
    "for species_name, seq in sequences.items():\n",
    "    aa_seq = translate_function(str(seq))\n",
    "    molecular_weight = calculate_molecular_weight(aa_seq)\n",
    "    print(species_name + \": \" + str(molecular_weight))"
   ]
  },
  {
   "cell_type": "markdown",
   "id": "1d80420d",
   "metadata": {},
   "source": [
    "#### Similar explanation as previous codes. "
   ]
  },
  {
   "cell_type": "code",
   "execution_count": 87,
   "id": "e8cbeacf",
   "metadata": {},
   "outputs": [
    {
     "name": "stdout",
     "output_type": "stream",
     "text": [
      "                    species   mass  molecular weight  GC content\n",
      "0      Aptenodytes forsteri  28.00               NaN         NaN\n",
      "1   Aptenodytes patagonicus  13.40               NaN         NaN\n",
      "2       Eudyptes chrysocome   2.80               NaN         NaN\n",
      "3     Eudyptes chrysolophus   4.50               NaN         NaN\n",
      "4         Eudyptes sclateri   4.25               NaN         NaN\n",
      "5           Eudyptula minor   1.60               NaN         NaN\n",
      "6        Pygoscelis adeliae   4.60               NaN         NaN\n",
      "7     Pygoscelis antarctica   4.10               NaN         NaN\n",
      "8          Pygoscelis papua   6.10               NaN         NaN\n",
      "9       Spheniscus demersus   3.20               NaN         NaN\n",
      "10     Spheniscus humboldti   4.75               NaN         NaN\n",
      "11  Spheniscus magellanicus   3.40               NaN         NaN\n"
     ]
    }
   ],
   "source": [
    "penguin_data = pd.read_csv(\"penguins_mass.csv\")\n",
    "penguin_data[\"molecular weight\"] = float('NaN')\n",
    "penguin_data[\"GC content\"] = float('NaN')\n",
    "print(penguin_data)"
   ]
  },
  {
   "cell_type": "markdown",
   "id": "9f2418ce",
   "metadata": {},
   "source": [
    "#### penguin_data = pd.read_csv(\"penguins_mass.csv\")\n",
    "\n",
    "This line reads in a CSV file called \"penguins_mass.csv\" using the read_csv() function from the Pandas library. The resulting data is assigned to a variable called penguin_data\n",
    "\n",
    "#### penguin_data[\"molecular weight\"] = float('NaN')\n",
    "#### ref (adding key value pair): https://stackoverflow.com/questions/3776275/how-to-add-key-value-pair-to-dictionary\n",
    "#### ref (float('NaN')): https://emeritus.org/blog/coding-learn-what-is-a-float-in-python/\n",
    "This line creates a new column in the penguin_data dataframe called \"molecular weight\" and initializes all the values to NaN (Not a Number). This is a placeholder value that will be replaced with actual molecular weights calculated later.\n",
    "\n",
    "#### penguin_data[\"GC content\"] = float('NaN')\n",
    "#### ref (adding key value pair): https://stackoverflow.com/questions/3776275/how-to-add-key-value-pair-to-dictionary\n",
    "#### ref (float('NaN')): https://emeritus.org/blog/coding-learn-what-is-a-float-in-python/\n",
    "This line creates a new column in the penguin_data dataframe called \"GC content\" and initializes all the values to NaN (Not a Number). This is a placeholder value that will be replaced with actual GC content calculated later.\n",
    "\n",
    "\n",
    "#### print(penguin_data)\n",
    "This line prints the entire penguin_data dataframe to the console. The output shows the data for each penguin, including its species, island, bill length, bill depth, flipper length, body mass, sex, molecular weight, and GC content. The molecular weight and GC content columns are currently filled with NaN values.\n",
    "\n",
    "\n",
    "#### When adding keys (or columns) to a DataFrame:\n",
    "\n",
    "the default behavior is to add them as new columns to the existing DataFrame.\n",
    "\n",
    "\n",
    "#### The single quotes (' ') are used to represent a string.\n",
    "\n",
    "In this case, the string being represented is 'NaN', which stands for \"Not a Number\" and is used to indicate missing or undefined values. "
   ]
  },
  {
   "cell_type": "code",
   "execution_count": 88,
   "id": "c0c6ae85",
   "metadata": {},
   "outputs": [
    {
     "name": "stdout",
     "output_type": "stream",
     "text": [
      "                    species   mass  molecular weight  GC content\n",
      "0      Aptenodytes forsteri  28.00        42459.6021    0.483815\n",
      "1   Aptenodytes patagonicus  13.40        42563.7067    0.496938\n",
      "2       Eudyptes chrysocome   2.80        42475.5753    0.511811\n",
      "3     Eudyptes chrysolophus   4.50        42445.5493    0.509186\n",
      "4         Eudyptes sclateri   4.25        42475.5753    0.508311\n",
      "5           Eudyptula minor   1.60        42491.6408    0.492563\n",
      "6        Pygoscelis adeliae   4.60        42458.6140    0.490814\n",
      "7     Pygoscelis antarctica   4.10        42404.5423    0.477690\n",
      "8          Pygoscelis papua   6.10        42595.8759    0.471566\n",
      "9       Spheniscus demersus   3.20        42431.5490    0.482940\n",
      "10     Spheniscus humboldti   4.75        42399.5520    0.492563\n",
      "11  Spheniscus magellanicus   3.40        42459.6021    0.482065\n"
     ]
    }
   ],
   "source": [
    "from Bio.SeqUtils.ProtParam import ProteinAnalysis\n",
    "\n",
    "sequences = get_sequences_from_file(penguins_cytb)\n",
    "\n",
    "for species_name, seq in sequences.items():\n",
    "    aa_seq = translate_function(str(seq))\n",
    "    molecular_weight = calculate_molecular_weight(aa_seq)\n",
    "    penguin_data.loc[penguin_data[\"species\"] == species_name, \"molecular weight\"] = molecular_weight\n",
    "\n",
    "gc_contents = {}\n",
    "for species_name, seq in sequences.items():\n",
    "    sequence = str(seq).upper()\n",
    "    gc_count = sequence.count('G') + sequence.count('C')\n",
    "    gc_content = gc_count / len(sequence)\n",
    "    gc_contents[species_name] = gc_content\n",
    "for species_name, gc_content in gc_contents.items():\n",
    "    penguin_data.loc[penguin_data[\"species\"] == species_name, \"GC content\"] = gc_content\n",
    "    \n",
    "print(penguin_data)"
   ]
  },
  {
   "cell_type": "markdown",
   "id": "cf9bb185",
   "metadata": {},
   "source": [
    "#### for species_name, seq in sequences.items():\n",
    "    aa_seq = translate_function(str(seq))\n",
    "This starts a for loop that iterates over the key-value pairs in the sequences dictionary. For each key-value pair, it converts the nucleotide sequence (seq) to a string using the str function and calls the translate_function() to translate it to an amino acid sequence (saved in \"aa_seq\").\n",
    "\n",
    "\n",
    "#### molecular_weight = calculate_molecular_weight(aa_seq)\n",
    "#### penguin_data.loc[penguin_data[\"species\"] == species_name, \"molecular weight\"] = molecular_weight\n",
    "#### ref (pandas.DataFrame.loc): https://pandas.pydata.org/pandas-docs/stable/reference/api/pandas.DataFrame.loc.html\n",
    "This calculates the molecular weight of the amino acid sequence (aa_seq) using a function called calculate_molecular_weight(), and assigns the result to a variable called molecular_weight. The penguin_data.loc[] syntax is used to select the rows in the penguin_data dataframe where the species column matches the current species_name, and sets the corresponding molecular weight values to the molecular_weight variable.\n",
    "\n",
    "\n",
    "\n",
    "#### gc_contents = {}\n",
    "#### for species_name, seq in sequences.items():\n",
    "    sequence = str(seq).upper()\n",
    "    gc_count = sequence.count('G') + sequence.count('C')\n",
    "    gc_content = gc_count / len(sequence)\n",
    "    gc_contents[species_name] = gc_content\n",
    "This loop calculates the GC content for each nucleotide sequence in the sequences dictionary. It creates an empty dictionary called gc_contents to store the results. For each nucleotide sequence, it converts it to a string and converts all letters to uppercase. It then counts the number of occurrences of 'G' and 'C' in the string (gc_count), calculates the GC content by dividing gc_count by the length of the sequence, and stores the GC content in the gc_contents dictionary with the corresponding species_name\n",
    "\n",
    "\n",
    "#### for species_name, gc_content in gc_contents.items():\n",
    "    penguin_data.loc[penguin_data[\"species\"] == species_name, \"GC content\"] = gc_content\n",
    "#### ref (pandas.DataFrame.loc): https://pandas.pydata.org/pandas-docs/stable/reference/api/pandas.DataFrame.loc.html\n",
    "This loop updates the GC content column in the penguin_data dataframe with the GC content values calculated in the previous loop. For each species in the gc_contents dictionary, it selects the rows in the penguin_data dataframe where the species column matches the current species_name, and sets the corresponding GC content values to the GC content value stored in the gc_contents dictionary.\n",
    "\n",
    "\n",
    "#### print(penguin_data)\n",
    "This line prints the entire penguin_data dataframe to the console. The output shows the data for each penguin."
   ]
  },
  {
   "cell_type": "code",
   "execution_count": 89,
   "id": "5148449a",
   "metadata": {},
   "outputs": [
    {
     "data": {
      "image/png": "[encoded data removed]",
      "text/plain": [
       "<Figure size 640x480 with 1 Axes>"
      ]
     },
     "metadata": {},
     "output_type": "display_data"
    }
   ],
   "source": [
    "import matplotlib.pyplot as plt\n",
    "\n",
    "\n",
    "fig, ax = plt.subplots()\n",
    "ax.bar(penguin_data[\"species\"], penguin_data[\"mass\"])\n",
    "\n",
    "\n",
    "ax.set_xlabel(\"Species\")\n",
    "\n",
    "\n",
    "ax.set_ylabel(\"Mass (g)\")\n",
    "\n",
    "\n",
    "plt.xticks(rotation=90)\n",
    "\n",
    "\n",
    "plt.show()"
   ]
  },
  {
   "cell_type": "markdown",
   "id": "0a355b02",
   "metadata": {},
   "source": [
    "#### import matplotlib.pyplot as plt \n",
    "\n",
    "import is a Python keyword used to import a library or module. matplotlib.pyplot is the sub-library that provides\n",
    "a simple interface for creating plots and charts.\n",
    "\n",
    "\n",
    "#### fig, ax = plt.subplots() \n",
    "#### ref: https://stackoverflow.com/questions/34162443/why-do-many-examples-use-fig-ax-plt-subplots-in-matplotlib-pyplot-python\n",
    "\n",
    "This creates a new figure and axes object for plotting. The fig variable represents the entire figure, while the ax variable represents a specific subplot within the figure. fig, ax is a tuple that is unpacked into two variables (fig and ax) using Python's tuple unpacking feature. plt.subplots() is a method that creates a new figure object and one or more subplot objects, and returns them as a tuple.\n",
    "\n",
    "\n",
    "#### ax.bar(penguin_data[\"species\"], penguin_data[\"mass\"]) -\n",
    "#### ref: https://matplotlib.org/stable/api/_as_gen/matplotlib.axes.Axes.bar.html\n",
    "\n",
    "This creates a bar chart using the data in the penguin_data dataframe. The species column is used as the x-axis, while the mass column is used as the y-axis. ax.bar() is a method that creates a bar chart on the given axes object. penguin_data[\"species\"] and penguin_data[\"mass\"] are DataFrame columns that contain the data to be plotted.\n",
    "\n",
    "\n",
    "#### ax.set_xlabel(\"Species\") \n",
    "#### ref :https://matplotlib.org/stable/api/_as_gen/matplotlib.axes.Axes.set_xlabel.html\n",
    "This sets the label for the x-axis of the plot to \"Species\".\n",
    "\n",
    "#### ax.set_ylabel(\"Mass (g)\") \n",
    "This sets the label for the y-axis of the plot to \"Mass (g)\". \n",
    "\n",
    "\n",
    "#### plt.xticks(rotation=90) \n",
    "#### ref (Rotate Y-Axis Tick Labels in Matplotlib): https://stackabuse.com/rotate-axis-labels-in-matplotlib/\n",
    "\n",
    "This rotates the x-axis tick labels by 90 degrees to make them easier to read.\n",
    "\n",
    "#### plt.xticks()\n",
    "\n",
    "is a method that sets the tick values and labels of the x-axis of the current plot. rotation=90 is an optional parameter that rotates the tick labels by 90 degrees.\n",
    "\n",
    "\n",
    "#### plt.show() \n",
    "This displays the plot on the screen. "
   ]
  },
  {
   "cell_type": "code",
   "execution_count": 51,
   "id": "4860c5f6",
   "metadata": {},
   "outputs": [
    {
     "name": "stdout",
     "output_type": "stream",
     "text": [
      "The smallest penguin species is: Eudyptula minor\n"
     ]
    }
   ],
   "source": [
    "smallest_species = penguin_data.sort_values(\"mass\").iloc[0][\"species\"]\n",
    "print(\"The smallest penguin species is:\", smallest_species)"
   ]
  },
  {
   "cell_type": "markdown",
   "id": "50c6a743",
   "metadata": {},
   "source": [
    "#### smallest_species = penguin_data.sort_values(\"mass\").iloc[0][\"species\"] \n",
    "This line of code finds the smallest penguin species by sorting the penguin_data dataframe by the mass column and selecting the first row (which has the smallest mass). The iloc method is used to select the first row, and the [\"species\"] syntax is used to extract the value of the species column for that row. The result is assigned to the smallest_species variable.\n",
    "\n",
    "#### sort_values(\"mass\")\n",
    "#### ref (sort): https://pandas.pydata.org/docs/reference/api/pandas.DataFrame.sort_values.html\n",
    "is a Pandas dataframe method that sorts the rows of the dataframe in ascending order by the values in the mass column.\n",
    "\n",
    "\n",
    "#### iloc[0] \n",
    "#### ref(iloc[0] ): https://pandas.pydata.org/docs/reference/api/pandas.DataFrame.iloc.html\n",
    "is a Pandas dataframe method that selects the first row of the sorted dataframe.\n",
    "\n",
    "\n",
    "#### [\"species\"] \n",
    "is a Pandas dataframe indexing syntax that selects the value of the species column for the selected row.\n",
    "\n",
    "\n",
    "#### print(\"The smallest penguin species is:\", smallest_species)\n",
    "#### ref( print variable and string separated by comma): https://www.freecodecamp.org/news/python-print-variable-how-to-print-a-string-and-variable/\n",
    "\n",
    "This line of code prints a message to the console that indicates the smallest penguin species. \n",
    "\"The smallest penguin species is:\" is a string literal that is printed to the console along with the value of smallest_species.\n",
    "\n",
    "\n",
    "\n",
    "\n",
    "\n"
   ]
  },
  {
   "cell_type": "code",
   "execution_count": 90,
   "id": "f245ea74",
   "metadata": {},
   "outputs": [
    {
     "data": {
      "image/png": "[encoded data removed]",
      "text/plain": [
       "<Figure size 640x480 with 1 Axes>"
      ]
     },
     "metadata": {},
     "output_type": "display_data"
    }
   ],
   "source": [
    "import matplotlib.pyplot as plt\n",
    "\n",
    "\n",
    "gc_content = penguin_data[\"GC content\"]\n",
    "mol_weight = penguin_data[\"molecular weight\"]\n",
    "\n",
    "\n",
    "plt.scatter(gc_content, mol_weight)\n",
    "plt.xlabel(\"GC content\")\n",
    "plt.ylabel(\"Molecular weight\")\n",
    "plt.title(\"Molecular weight vs. GC content in penguins\")\n",
    "\n",
    "\n",
    "plt.show()"
   ]
  },
  {
   "cell_type": "markdown",
   "id": "1b2c4882",
   "metadata": {},
   "source": [
    "#### import matplotlib.pyplot as plt \n",
    "Imports the pyplot module of the matplotlib library and aliases it as plt. This module provides functions for creating plots and visualizations in Python.\n",
    "as is a Python keyword used to create an alias for a library or module.\n",
    "\n",
    "#### gc_content = penguin_data[\"GC content\"]\n",
    "Assigns the values of the GC content column in the penguin_data dataframe to the gc_content variable.\n",
    "\n",
    "#### mol_weight = penguin_data[\"molecular weight\"]\n",
    "Assigns the values of the molecular weight column in the penguin_data dataframe to the mol_weight variable.\n",
    "\n",
    "#### plt.scatter(gc_content, mol_weight) \n",
    "#### ref :https://matplotlib.org/stable/api/_as_gen/matplotlib.pyplot.scatter.html\n",
    "Creates a scatter plot of mol_weight on the y-axis and gc_content on the x-axis using the scatter function from the pyplot module.\n",
    "plt.scatter is a function that creates a scatter plot of x-y data points.\n",
    "gc_content is the x-axis data for the scatter plot.\n",
    "mol_weight is the y-axis data for the scatter plot.\n",
    "\n",
    "#### plt.xlabel(\"GC content\")\n",
    "Adds a label (\"GC content\") to the x-axis of the plot.\n",
    "\n",
    "####  plt.ylabel(\"Molecular weight\") \n",
    "Adds a label (\"Molecular weight\")  to the y-axis of the plot.\n",
    "\n",
    "#### plt.title(\"Molecular weight vs. GC content in penguins\") \n",
    "Adds a title to the plot.\n",
    "plt.title is a function that sets the title of the plot.\n",
    "\n",
    "#### plt.show()\n",
    "Displays the plot on the screen.\n",
    "\n",
    "\n",
    "\n"
   ]
  },
  {
   "cell_type": "code",
   "execution_count": 91,
   "id": "0a0e2bce",
   "metadata": {},
   "outputs": [],
   "source": [
    "penguin_data.to_csv(\"penguins_mass_cytb.csv\", index=False)"
   ]
  },
  {
   "cell_type": "markdown",
   "id": "068b0782",
   "metadata": {},
   "source": [
    "#### penguin_data.to_csv(\"penguins_mass_cytb.csv\", index=False)\n",
    "This line saves the modified penguin data to a CSV (comma-separated values) file named \"penguins_mass_cytb.csv\" in the current working directory. The data is saved without an index column using the to_csv() method provided by the pandas library.\n",
    "\n",
    "The index=False argument specifies that the DataFrame index should not be included in the CSV file. This means that the first column of the CSV file will only contain the column names of the DataFrame, and not an additional index column.\n",
    "\n"
   ]
  },
  {
   "cell_type": "markdown",
   "id": "b11a5be5",
   "metadata": {},
   "source": [
    "### protein mass distribution:"
   ]
  },
  {
   "cell_type": "code",
   "execution_count": 92,
   "id": "e99306c5",
   "metadata": {},
   "outputs": [
    {
     "data": {
      "image/png": "[encoded data removed]",
      "text/plain": [
       "<Figure size 640x480 with 1 Axes>"
      ]
     },
     "metadata": {},
     "output_type": "display_data"
    }
   ],
   "source": [
    "penguin_data = pd.read_csv(\"penguins_mass_cytb.csv\")\n",
    "mass_data = penguin_data[\"mass\"]\n",
    "num_bins = 10\n",
    "plt.hist(mass_data, bins=num_bins, alpha=0.5)\n",
    "plt.xlabel(\"Protein Mass (g)\")\n",
    "plt.ylabel(\"Frequency\")\n",
    "plt.title(\"Distribution of Protein Mass in Penguins\")\n",
    "plt.show()"
   ]
  },
  {
   "cell_type": "markdown",
   "id": "3a9ec745",
   "metadata": {},
   "source": [
    "#### penguin_data = pd.read_csv(\"penguins_mass_cytb.csv\")\n",
    "This line loads the penguin data from the penguins_mass_cytb.csv file and stores it in a pandas dataframe called penguin_data.\n",
    "\n",
    "#### mass_data = penguin_data[\"mass\"]\n",
    "This line extracts the \"mass\" column from the penguin_data dataframe and stores it in a variable called mass_data.\n",
    "\n",
    "\n",
    "#### num_bins = 10\n",
    "#### ref :https://pythonspot.com/tag/histogram/\n",
    "This line sets the number of bins to use in the histogram to 10.\n",
    "\n",
    "\n",
    "#### plt.hist(mass_data, bins=num_bins, alpha=0.5)\n",
    "#### ref: https://matplotlib.org/stable/api/_as_gen/matplotlib.pyplot.hist.html\n",
    "This line creates the histogram using the plt.hist() function from matplotlib, with mass_data as the input data, num_bins as the number of bins, and alpha=0.5 to set the bars to be semi-transparent.\n",
    "\n",
    "#### plt.xlabel(\"Protein Mass (g)\")\n",
    "#### plt.ylabel(\"Frequency\")\n",
    "#### plt.title(\"Distribution of Protein Mass in Penguins\")\n",
    "These three lines add x and y axis labels and a plot title to the histogram using the plt.xlabel(), plt.ylabel(), and plt.title() functions, respectively.\n",
    "\n",
    "#### plt.show()\n",
    "This line displays the histogram plot."
   ]
  },
  {
   "cell_type": "code",
   "execution_count": null,
   "id": "d01fd5d3",
   "metadata": {},
   "outputs": [],
   "source": []
  }
 ],
 "metadata": {
  "kernelspec": {
   "display_name": "Python 3 (ipykernel)",
   "language": "python",
   "name": "python3"
  },
  "language_info": {
   "codemirror_mode": {
    "name": "ipython",
    "version": 3
   },
   "file_extension": ".py",
   "mimetype": "text/x-python",
   "name": "python",
   "nbconvert_exporter": "python",
   "pygments_lexer": "ipython3",
   "version": "3.10.9"
  }
 },
 "nbformat": 4,
 "nbformat_minor": 5
}
